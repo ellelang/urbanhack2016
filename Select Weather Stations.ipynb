{
 "cells": [
  {
   "cell_type": "code",
   "execution_count": 2,
   "metadata": {
    "collapsed": true
   },
   "outputs": [],
   "source": [
    "# Script to select weather stations \n",
    "\n",
    "import ulmo\n",
    "import pandas as pd\n",
    "import numpy as np"
   ]
  },
  {
   "cell_type": "code",
   "execution_count": 45,
   "metadata": {
    "collapsed": false
   },
   "outputs": [],
   "source": [
    "ca_stations = ulmo.ncdc.ghcn_daily.get_stations(country = 'US', state = 'CA', elements = 'TMAX', start_year=2014, end_year = 2016, as_dataframe=True)"
   ]
  },
  {
   "cell_type": "code",
   "execution_count": null,
   "metadata": {
    "collapsed": false
   },
   "outputs": [],
   "source": [
    "lon = [-118.9, -116.8]\n",
    "lat = [33.3, 34.4]\n",
    "LA_stations = ca_stations[(ca_stations['latitude']> lat[0]) & (ca_stations['latitude'] < lat[1]) & (ca_stations['longitude']> lon[0]) & (ca_stations['longitude'] < lon[1])]"
   ]
  },
  {
   "cell_type": "code",
   "execution_count": 60,
   "metadata": {
    "collapsed": false
   },
   "outputs": [
    {
     "data": {
      "text/plain": [
       "(98, 12)"
      ]
     },
     "execution_count": 60,
     "metadata": {},
     "output_type": "execute_result"
    }
   ],
   "source": [
    "LA_stations.shape"
   ]
  },
  {
   "cell_type": "code",
   "execution_count": null,
   "metadata": {
    "collapsed": false,
    "scrolled": true
   },
   "outputs": [
    {
     "name": "stdout",
     "output_type": "stream",
     "text": [
      "skipping station USC00040192\n",
      "skipping station USC00040741\n",
      "skipping station USC00040924\n",
      "skipping station USC00041194\n",
      "skipping station USC00041738\n"
     ]
    }
   ],
   "source": [
    "frames = []\n",
    "for station in LA_stations.index: \n",
    "    df = pd.DataFrame()\n",
    "    #try: \n",
    "    stationdata = ulmo.ncdc.ghcn_daily.get_data(station, as_dataframe=True)['TMAX']['2014-01-01':'2016-01-01']\n",
    "    df['temp'] = stationdata.value*.1\n",
    "    df['lat'] = np.ones(stationdata.shape[0])*LA_stations.loc[station].latitude\n",
    "    df['lon'] = np.ones(stationdata.shape[0])*LA_stations.loc[station].longitude\n",
    "    df['ghcn_id'] = station\n",
    "    frames.append(df)\n",
    "    #except ValueError: \n",
    "    #print 'skipping station %s'%station"
   ]
  },
  {
   "cell_type": "code",
   "execution_count": null,
   "metadata": {
    "collapsed": false
   },
   "outputs": [],
   "source": []
  },
  {
   "cell_type": "code",
   "execution_count": null,
   "metadata": {
    "collapsed": true
   },
   "outputs": [],
   "source": [
    "pd.concat(frames).to_csv('data/LAtmax.csv')"
   ]
  }
 ],
 "metadata": {
  "kernelspec": {
   "display_name": "Python 2",
   "language": "python",
   "name": "python2"
  },
  "language_info": {
   "codemirror_mode": {
    "name": "ipython",
    "version": 2
   },
   "file_extension": ".py",
   "mimetype": "text/x-python",
   "name": "python",
   "nbconvert_exporter": "python",
   "pygments_lexer": "ipython2",
   "version": "2.7.11"
  }
 },
 "nbformat": 4,
 "nbformat_minor": 0
}
