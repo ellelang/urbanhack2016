{
 "cells": [
  {
   "cell_type": "code",
   "execution_count": 1,
   "metadata": {
    "collapsed": true
   },
   "outputs": [],
   "source": [
    "import ee\n",
    "import datetime\n",
    "import pandas as pd\n",
    "ee.Initialize()"
   ]
  },
  {
   "cell_type": "code",
   "execution_count": 3,
   "metadata": {
    "collapsed": false
   },
   "outputs": [],
   "source": [
    "def get_data(startTime,endTime,latlon):   \n",
    "\n",
    "    try:\n",
    "    #if(True):\n",
    "        #Read Landsat 8 Image\n",
    "        L8_DN = ee.ImageCollection('LANDSAT/LC8_L1T').filterDate(startTime, endTime)  \n",
    "        emissivity = ee.Image('NASA/ASTER_GED/AG100_003').select('emissivity_band10').multiply(0.001) \n",
    "        srtm = ee.Image('USGS/SRTMGL1_003')\n",
    "        impervious = ee.Image('USGS/NLCD/NLCD2011').select('impervious')\n",
    "        \n",
    "        # computes emissivity-corrected land surface temperature given Landsat8 band 10 (tir) and emissivity\n",
    "        # assumes tir, emissivity are google earth engine images\n",
    "        k1 = 774.8853 ; # constants for Landsat8 B10\n",
    "        k2 =  1321.0789 ; # constants for Landsat8 B10\n",
    "        dummyk1 = emissivity.multiply(0).add(1).multiply(k1) # make dummy variable same size/type as emissivity\n",
    "        dummyk2 = emissivity.multiply(0).add(1).multiply(k2) # make dummy variable same size/type as emissivity\n",
    "    \n",
    "        df_all = pd.DataFrame()\n",
    "        \n",
    "        for loc in latlon[0:95:3]:\n",
    "            try:\n",
    "                point = {'type':'Point', 'coordinates':[loc[1],loc[0]]};\n",
    "                L8_DN_point = L8_DN.filterBounds(point)    \n",
    "                L8_DN_point = L8_DN_point.sort('CLOUD_COVER').first()  \n",
    "    \n",
    "                image = ee.Image(L8_DN_point)\n",
    "                tir = image.select(u'B10')\n",
    "                red = image.select(u'B4')\n",
    "                nir = image.select(u'B5')\n",
    "                ndvi = nir.subtract(red).divide(nir.add(red))\n",
    "        \n",
    "                # first convert band 10 Digital Number (DN) data to TOA spectral radiance\n",
    "                radiance = tir.multiply(3.3420E-04).add(.1)  # scale by gain and bias, band specific \n",
    "                L_lamda = radiance.divide(emissivity); # correct for emissivity\n",
    "                k1_over_L_lamda = dummyk1.divide(L_lamda) \n",
    "                denominator = k1_over_L_lamda.add(1).log(); \n",
    "                t = dummyk2.divide(denominator).subtract(273.15); # finally convert to degrees C \n",
    "    \n",
    "                image = ee.ImageCollection(image)\n",
    "                t = ee.ImageCollection(t)\n",
    "                ndvi = ee.ImageCollection(ndvi)\n",
    "                srtm = ee.ImageCollection(srtm)\n",
    "                impervious = ee.ImageCollection(impervious)\n",
    "    \n",
    "                #Get the given Lat,Lon,date\n",
    "                info = image.getRegion(point,500).getInfo()\n",
    "                df_image = pd.DataFrame(info[1:],columns=info[0])\n",
    "    \n",
    "                #Get the LST (B10)\n",
    "                info = t.getRegion(point,500).getInfo()\n",
    "                df_t = pd.DataFrame(info[1:],columns=info[0])\n",
    "    \n",
    "                #Get the NDVI\n",
    "                info = ndvi.getRegion(point,500).getInfo()\n",
    "                df_ndvi = pd.DataFrame(info[1:],columns=info[0])\n",
    "\n",
    "                #Get the SRTM\n",
    "                info = srtm.getRegion(point,500).getInfo()\n",
    "                df_srtm = pd.DataFrame(info[1:],columns=info[0])\n",
    "\n",
    "                #Get the impervious\n",
    "                info = impervious.getRegion(point,500).getInfo()\n",
    "                df_impervious = pd.DataFrame(info[1:],columns=info[0])\n",
    "\n",
    "                df = pd.DataFrame()\n",
    "                df = pd.concat([df,df_image[['longitude','latitude','time']]],axis=1)\n",
    "                df = pd.concat([df,df_t['emissivity_band10']],axis=1)\n",
    "                df = pd.concat([df,df_ndvi['B5']],axis=1)\n",
    "                df = pd.concat([df,df_srtm['elevation']],axis=1)\n",
    "                df = pd.concat([df,df_impervious['impervious']],axis=1)\n",
    "        \n",
    "                df.rename(index=str, columns={\"emissivity_band10\": \"LST\"},inplace=True)\n",
    "                df.rename(index=str, columns={\"B5\": \"NDVI\"},inplace=True)\n",
    "                df['time'] = df['time'].apply(lambda x:datetime.datetime.fromtimestamp(float(str(x)[:-3])))\n",
    "                df['latitude'] = loc[0]\n",
    "                df['longitude'] = loc[1]\n",
    "                \n",
    "                df_all = pd.concat([df_all,df])\n",
    "            except:\n",
    "                df_all = df_all.copy()\n",
    "            #print(shape(df_all))\n",
    "        return df_all\n",
    "    except:\n",
    "        print(\"Not Found or Error!\")\n",
    "        return pd.DataFrame"
   ]
  },
  {
   "cell_type": "code",
   "execution_count": null,
   "metadata": {
    "collapsed": false
   },
   "outputs": [],
   "source": []
  },
  {
   "cell_type": "code",
   "execution_count": 4,
   "metadata": {
    "collapsed": false
   },
   "outputs": [],
   "source": [
    "import datetime\n",
    "from matplotlib import dates\n",
    "import matplotlib.dates as mdates\n",
    "from pylab import *\n",
    "\n",
    "startTime = datetime.datetime(2013, 1, 1)\n",
    "endTime = datetime.datetime(2016, 1, 1)\n",
    "\n",
    "collection = ee.ImageCollection('LANDSAT/LC8_L1T').filterDate(startTime, endTime)\n",
    "point = {'type':'Point', 'coordinates':[ -117.2820,33.9802]};  # LA\n",
    "info = collection.getRegion(point,500).getInfo()\n",
    "\n",
    "# extract the header column names\n",
    "header = info[0]\n",
    "# create a Numpy array of the data\n",
    "data = array(info[1:])\n",
    "# extract the time information\n",
    "iTime = header.index('time')\n",
    "# convert to Python datetime objects\n",
    "time_collection = [datetime.datetime.fromtimestamp(i/1000) for i in (data[0:,iTime].astype(int))]"
   ]
  },
  {
   "cell_type": "code",
   "execution_count": 5,
   "metadata": {
    "collapsed": false
   },
   "outputs": [],
   "source": [
    "#Read list of metereological station and\n",
    "#Read the Temperature values from the Met stations\n",
    "Tair_val = pd.read_csv('LAtmax.csv')\n",
    "Tair_val.rename(index=str, columns={\"day\": \"time\"},inplace=True)\n",
    "Tair_val.drop('ghcn_id',axis=1,inplace=True)\n",
    "\n",
    "lat = Tair_val['latitude'].unique()\n",
    "lon = Tair_val['longitude'].unique()\n",
    "latlon = zip(lat,lon)"
   ]
  },
  {
   "cell_type": "code",
   "execution_count": null,
   "metadata": {
    "collapsed": false
   },
   "outputs": [],
   "source": []
  },
  {
   "cell_type": "code",
   "execution_count": null,
   "metadata": {
    "collapsed": false
   },
   "outputs": [],
   "source": []
  },
  {
   "cell_type": "code",
   "execution_count": 6,
   "metadata": {
    "collapsed": false
   },
   "outputs": [
    {
     "data": {
      "text/plain": [
       "95"
      ]
     },
     "execution_count": 6,
     "metadata": {},
     "output_type": "execute_result"
    }
   ],
   "source": [
    "len(latlon)"
   ]
  },
  {
   "cell_type": "code",
   "execution_count": null,
   "metadata": {
    "collapsed": false
   },
   "outputs": [],
   "source": []
  },
  {
   "cell_type": "code",
   "execution_count": 7,
   "metadata": {
    "collapsed": false
   },
   "outputs": [
    {
     "name": "stdout",
     "output_type": "stream",
     "text": [
      "0\n",
      "77.0501189232\n",
      "1\n",
      "69.79865098\n",
      "2\n",
      "77.9301261902\n",
      "3\n",
      "81.6798410416\n",
      "4\n",
      "72.5418710709\n",
      "5\n",
      "78.387378931\n",
      "6\n",
      "65.8937911987\n",
      "7\n",
      "69.4765372276\n",
      "8\n",
      "66.2004230022\n",
      "9\n",
      "47.7379879951\n",
      "10\n",
      "68.630687952\n",
      "11\n",
      "82.7993938923\n",
      "12\n",
      "91.7868630886\n",
      "13\n",
      "80.6244680882\n",
      "14\n",
      "86.9696860313\n",
      "15\n",
      "56.0497069359\n",
      "16\n",
      "100.116712093\n",
      "17\n",
      "73.4625861645\n",
      "18\n",
      "71.6389389038\n",
      "19\n",
      "106.437191963\n",
      "20\n",
      "83.5372869968\n",
      "21\n",
      "95.5893568993\n",
      "22\n",
      "103.65345192\n",
      "23\n",
      "85.4740319252\n",
      "24\n",
      "93.8350758553\n",
      "25\n",
      "78.8909299374\n",
      "26\n",
      "86.0508890152\n",
      "27\n",
      "73.1298818588\n",
      "28\n",
      "74.5575420856\n",
      "29\n",
      "76.7479958534\n"
     ]
    }
   ],
   "source": [
    "import time as time\n",
    "\n",
    "#Create the final Dataframe\n",
    "df = pd.DataFrame()\n",
    "counter=0\n",
    "\n",
    "for time_X in time_collection[0:120:4]:\n",
    "    tic = time.time()\n",
    "    print(counter)\n",
    "    startTime = time_X-datetime.timedelta(days=1)\n",
    "    endTime = time_X+datetime.timedelta(days=1)\n",
    "    df_temp = get_data(startTime,endTime,latlon)\n",
    "    try:\n",
    "        df = pd.concat([df,df_temp])\n",
    "    except:\n",
    "        df = df.copy()\n",
    "    counter += 1\n",
    "    \n",
    "    toc = time.time()\n",
    "    print(toc-tic)"
   ]
  },
  {
   "cell_type": "code",
   "execution_count": 9,
   "metadata": {
    "collapsed": false
   },
   "outputs": [],
   "source": [
    "df_copy = df.copy() #Keep a copy of the df dataframe"
   ]
  },
  {
   "cell_type": "code",
   "execution_count": null,
   "metadata": {
    "collapsed": false
   },
   "outputs": [],
   "source": []
  },
  {
   "cell_type": "code",
   "execution_count": 11,
   "metadata": {
    "collapsed": false
   },
   "outputs": [
    {
     "data": {
      "text/html": [
       "<div>\n",
       "<table border=\"1\" class=\"dataframe\">\n",
       "  <thead>\n",
       "    <tr style=\"text-align: right;\">\n",
       "      <th></th>\n",
       "      <th>time</th>\n",
       "      <th>temp</th>\n",
       "      <th>latitude</th>\n",
       "      <th>longitude</th>\n",
       "    </tr>\n",
       "  </thead>\n",
       "  <tbody>\n",
       "    <tr>\n",
       "      <th>0</th>\n",
       "      <td>2014-01-01</td>\n",
       "      <td>23.3</td>\n",
       "      <td>33.8647</td>\n",
       "      <td>-117.8425</td>\n",
       "    </tr>\n",
       "    <tr>\n",
       "      <th>1</th>\n",
       "      <td>2014-01-02</td>\n",
       "      <td>26.7</td>\n",
       "      <td>33.8647</td>\n",
       "      <td>-117.8425</td>\n",
       "    </tr>\n",
       "    <tr>\n",
       "      <th>2</th>\n",
       "      <td>2014-01-03</td>\n",
       "      <td>24.4</td>\n",
       "      <td>33.8647</td>\n",
       "      <td>-117.8425</td>\n",
       "    </tr>\n",
       "    <tr>\n",
       "      <th>3</th>\n",
       "      <td>2014-01-04</td>\n",
       "      <td>23.3</td>\n",
       "      <td>33.8647</td>\n",
       "      <td>-117.8425</td>\n",
       "    </tr>\n",
       "    <tr>\n",
       "      <th>4</th>\n",
       "      <td>2014-01-05</td>\n",
       "      <td>27.8</td>\n",
       "      <td>33.8647</td>\n",
       "      <td>-117.8425</td>\n",
       "    </tr>\n",
       "  </tbody>\n",
       "</table>\n",
       "</div>"
      ],
      "text/plain": [
       "         time  temp  latitude  longitude\n",
       "0  2014-01-01  23.3   33.8647  -117.8425\n",
       "1  2014-01-02  26.7   33.8647  -117.8425\n",
       "2  2014-01-03  24.4   33.8647  -117.8425\n",
       "3  2014-01-04  23.3   33.8647  -117.8425\n",
       "4  2014-01-05  27.8   33.8647  -117.8425"
      ]
     },
     "execution_count": 11,
     "metadata": {},
     "output_type": "execute_result"
    }
   ],
   "source": [
    "Tair_val.head()"
   ]
  },
  {
   "cell_type": "code",
   "execution_count": 12,
   "metadata": {
    "collapsed": false,
    "scrolled": true
   },
   "outputs": [],
   "source": [
    "#Do some field cleaning for joining the tables\n",
    "df['longitude'] = df['longitude'].apply(lambda x:str(x)[0:8])\n",
    "df['latitude'] = df['latitude'].apply(lambda x:str(x)[0:6])\n",
    "df['time'] = df['time'].apply(lambda x:str(x.date()))\n",
    "\n",
    "Tair_val['longitude'] = Tair_val['longitude'].apply(lambda x:str(x)[0:8])\n",
    "Tair_val['latitude'] = Tair_val['latitude'].apply(lambda x:str(x)[0:6])\n",
    "Tair_val['time'] = Tair_val['time'].apply(lambda x:str(x))"
   ]
  },
  {
   "cell_type": "code",
   "execution_count": 13,
   "metadata": {
    "collapsed": false
   },
   "outputs": [
    {
     "ename": "ValueError",
     "evalue": "labels ['native_id' 'met_monitor_id'] not contained in axis",
     "output_type": "error",
     "traceback": [
      "\u001b[1;31m\u001b[0m",
      "\u001b[1;31mValueError\u001b[0mTraceback (most recent call last)",
      "\u001b[1;32m<ipython-input-13-6d019e4e91c1>\u001b[0m in \u001b[0;36m<module>\u001b[1;34m()\u001b[0m\n\u001b[0;32m      1\u001b[0m \u001b[1;31m#Merge the two Tables\u001b[0m\u001b[1;33m\u001b[0m\u001b[1;33m\u001b[0m\u001b[0m\n\u001b[0;32m      2\u001b[0m \u001b[0mdf\u001b[0m \u001b[1;33m=\u001b[0m \u001b[0mpd\u001b[0m\u001b[1;33m.\u001b[0m\u001b[0mmerge\u001b[0m\u001b[1;33m(\u001b[0m\u001b[0mdf\u001b[0m\u001b[1;33m,\u001b[0m \u001b[0mTair_val\u001b[0m\u001b[1;33m,\u001b[0m \u001b[0mhow\u001b[0m\u001b[1;33m=\u001b[0m\u001b[1;34m'left'\u001b[0m\u001b[1;33m,\u001b[0m \u001b[0mon\u001b[0m\u001b[1;33m=\u001b[0m\u001b[1;33m[\u001b[0m\u001b[1;34m'latitude'\u001b[0m\u001b[1;33m,\u001b[0m \u001b[1;34m'longitude'\u001b[0m\u001b[1;33m,\u001b[0m \u001b[1;34m'time'\u001b[0m\u001b[1;33m]\u001b[0m\u001b[1;33m)\u001b[0m\u001b[1;33m\u001b[0m\u001b[0m\n\u001b[1;32m----> 3\u001b[1;33m \u001b[0mdf\u001b[0m\u001b[1;33m.\u001b[0m\u001b[0mdrop\u001b[0m\u001b[1;33m(\u001b[0m\u001b[1;33m[\u001b[0m\u001b[1;34m'native_id'\u001b[0m\u001b[1;33m,\u001b[0m\u001b[1;34m'met_monitor_id'\u001b[0m\u001b[1;33m]\u001b[0m\u001b[1;33m,\u001b[0m\u001b[0maxis\u001b[0m\u001b[1;33m=\u001b[0m\u001b[1;36m1\u001b[0m\u001b[1;33m,\u001b[0m\u001b[0minplace\u001b[0m\u001b[1;33m=\u001b[0m\u001b[0mTrue\u001b[0m\u001b[1;33m)\u001b[0m\u001b[1;33m\u001b[0m\u001b[0m\n\u001b[0m\u001b[0;32m      4\u001b[0m \u001b[1;31m#df = df.dropna(axis=0,how='any') #Drop any rows with missing data\u001b[0m\u001b[1;33m\u001b[0m\u001b[1;33m\u001b[0m\u001b[0m\n",
      "\u001b[1;32m/opt/conda/envs/python2/lib/python2.7/site-packages/pandas/core/generic.pyc\u001b[0m in \u001b[0;36mdrop\u001b[1;34m(self, labels, axis, level, inplace, errors)\u001b[0m\n\u001b[0;32m   1875\u001b[0m                 \u001b[0mnew_axis\u001b[0m \u001b[1;33m=\u001b[0m \u001b[0maxis\u001b[0m\u001b[1;33m.\u001b[0m\u001b[0mdrop\u001b[0m\u001b[1;33m(\u001b[0m\u001b[0mlabels\u001b[0m\u001b[1;33m,\u001b[0m \u001b[0mlevel\u001b[0m\u001b[1;33m=\u001b[0m\u001b[0mlevel\u001b[0m\u001b[1;33m,\u001b[0m \u001b[0merrors\u001b[0m\u001b[1;33m=\u001b[0m\u001b[0merrors\u001b[0m\u001b[1;33m)\u001b[0m\u001b[1;33m\u001b[0m\u001b[0m\n\u001b[0;32m   1876\u001b[0m             \u001b[1;32melse\u001b[0m\u001b[1;33m:\u001b[0m\u001b[1;33m\u001b[0m\u001b[0m\n\u001b[1;32m-> 1877\u001b[1;33m                 \u001b[0mnew_axis\u001b[0m \u001b[1;33m=\u001b[0m \u001b[0maxis\u001b[0m\u001b[1;33m.\u001b[0m\u001b[0mdrop\u001b[0m\u001b[1;33m(\u001b[0m\u001b[0mlabels\u001b[0m\u001b[1;33m,\u001b[0m \u001b[0merrors\u001b[0m\u001b[1;33m=\u001b[0m\u001b[0merrors\u001b[0m\u001b[1;33m)\u001b[0m\u001b[1;33m\u001b[0m\u001b[0m\n\u001b[0m\u001b[0;32m   1878\u001b[0m             \u001b[0mdropped\u001b[0m \u001b[1;33m=\u001b[0m \u001b[0mself\u001b[0m\u001b[1;33m.\u001b[0m\u001b[0mreindex\u001b[0m\u001b[1;33m(\u001b[0m\u001b[1;33m**\u001b[0m\u001b[1;33m{\u001b[0m\u001b[0maxis_name\u001b[0m\u001b[1;33m:\u001b[0m \u001b[0mnew_axis\u001b[0m\u001b[1;33m}\u001b[0m\u001b[1;33m)\u001b[0m\u001b[1;33m\u001b[0m\u001b[0m\n\u001b[0;32m   1879\u001b[0m             \u001b[1;32mtry\u001b[0m\u001b[1;33m:\u001b[0m\u001b[1;33m\u001b[0m\u001b[0m\n",
      "\u001b[1;32m/opt/conda/envs/python2/lib/python2.7/site-packages/pandas/indexes/base.pyc\u001b[0m in \u001b[0;36mdrop\u001b[1;34m(self, labels, errors)\u001b[0m\n\u001b[0;32m   3049\u001b[0m             \u001b[1;32mif\u001b[0m \u001b[0merrors\u001b[0m \u001b[1;33m!=\u001b[0m \u001b[1;34m'ignore'\u001b[0m\u001b[1;33m:\u001b[0m\u001b[1;33m\u001b[0m\u001b[0m\n\u001b[0;32m   3050\u001b[0m                 raise ValueError('labels %s not contained in axis' %\n\u001b[1;32m-> 3051\u001b[1;33m                                  labels[mask])\n\u001b[0m\u001b[0;32m   3052\u001b[0m             \u001b[0mindexer\u001b[0m \u001b[1;33m=\u001b[0m \u001b[0mindexer\u001b[0m\u001b[1;33m[\u001b[0m\u001b[1;33m~\u001b[0m\u001b[0mmask\u001b[0m\u001b[1;33m]\u001b[0m\u001b[1;33m\u001b[0m\u001b[0m\n\u001b[0;32m   3053\u001b[0m         \u001b[1;32mreturn\u001b[0m \u001b[0mself\u001b[0m\u001b[1;33m.\u001b[0m\u001b[0mdelete\u001b[0m\u001b[1;33m(\u001b[0m\u001b[0mindexer\u001b[0m\u001b[1;33m)\u001b[0m\u001b[1;33m\u001b[0m\u001b[0m\n",
      "\u001b[1;31mValueError\u001b[0m: labels ['native_id' 'met_monitor_id'] not contained in axis"
     ]
    }
   ],
   "source": [
    "#Merge the two Tables\n",
    "df = pd.merge(df, Tair_val, how='left', on=['latitude', 'longitude', 'time'])\n",
    "#df.drop(['native_id','met_monitor_id'],axis=1,inplace=True)"
   ]
  },
  {
   "cell_type": "code",
   "execution_count": 17,
   "metadata": {
    "collapsed": false
   },
   "outputs": [],
   "source": [
    "df = df.dropna(axis=0,how='any') #Drop any rows with missing data"
   ]
  },
  {
   "cell_type": "code",
   "execution_count": null,
   "metadata": {
    "collapsed": false
   },
   "outputs": [],
   "source": []
  },
  {
   "cell_type": "code",
   "execution_count": 27,
   "metadata": {
    "collapsed": false
   },
   "outputs": [],
   "source": [
    "from sklearn.model_selection import train_test_split\n",
    "X_train, X_test, y_train, y_test = train_test_split(df.drop(['longitude','latitude','time','temp'],axis=1), \n",
    "                                                    df['temp'], test_size=0.30, random_state=101)\n",
    "#Do the Regression\n",
    "#X_train = df.drop(['longitude','latitude','time','temp'], axis=1)\n",
    "#y_train = df['temp']\n",
    "                  \n",
    "\n",
    "from sklearn.linear_model import LinearRegression\n",
    "lm = LinearRegression(normalize=True)\n",
    "\n",
    "lm.fit(X_train,y_train)\n",
    "\n",
    "predictions_train = lm.predict(X_train)\n",
    "predictions_test = lm.predict(X_test)"
   ]
  },
  {
   "cell_type": "code",
   "execution_count": 28,
   "metadata": {
    "collapsed": false
   },
   "outputs": [
    {
     "name": "stdout",
     "output_type": "stream",
     "text": [
      "('MAE:', 4.0422104944686046)\n",
      "('MSE:', 26.644173467160812)\n",
      "('RMSE:', 5.161799440811393)\n"
     ]
    },
    {
     "data": {
      "image/png": "[encoded data removed]",
      "text/plain": [
       "<matplotlib.figure.Figure at 0x7f953dd00690>"
      ]
     },
     "metadata": {},
     "output_type": "display_data"
    }
   ],
   "source": [
    "#Metrics for Training set\n",
    "plt.scatter(y_train,predictions_train)\n",
    "from sklearn import metrics\n",
    "print('MAE:', metrics.mean_absolute_error(y_train, predictions_train))\n",
    "print('MSE:', metrics.mean_squared_error(y_train, predictions_train))\n",
    "print('RMSE:', np.sqrt(metrics.mean_squared_error(y_train, predictions_train)))"
   ]
  },
  {
   "cell_type": "code",
   "execution_count": 29,
   "metadata": {
    "collapsed": false
   },
   "outputs": [
    {
     "name": "stdout",
     "output_type": "stream",
     "text": [
      "('MAE:', 5.0248910868420982)\n",
      "('MSE:', 36.786258510700165)\n",
      "('RMSE:', 6.0651676407746686)\n"
     ]
    },
    {
     "data": {
      "image/png": "[encoded data removed]",
      "text/plain": [
       "<matplotlib.figure.Figure at 0x7f95308aa210>"
      ]
     },
     "metadata": {},
     "output_type": "display_data"
    }
   ],
   "source": [
    "#Metrics for Test set\n",
    "plt.scatter(y_test,predictions_test)\n",
    "from sklearn import metrics\n",
    "print('MAE:', metrics.mean_absolute_error(y_test, predictions_test))\n",
    "print('MSE:', metrics.mean_squared_error(y_test, predictions_test))\n",
    "print('RMSE:', np.sqrt(metrics.mean_squared_error(y_test, predictions_test)))"
   ]
  },
  {
   "cell_type": "code",
   "execution_count": 31,
   "metadata": {
    "collapsed": false
   },
   "outputs": [
    {
     "name": "stdout",
     "output_type": "stream",
     "text": [
      "[  2.26853597e-01  -1.81088546e+01  -3.39203608e-03  -5.62309315e-02]\n",
      "26.6847981872\n"
     ]
    }
   ],
   "source": [
    "#with elevation\n",
    "print(lm.coef_)\n",
    "print(lm.intercept_)"
   ]
  },
  {
   "cell_type": "code",
   "execution_count": 32,
   "metadata": {
    "collapsed": false
   },
   "outputs": [
    {
     "data": {
      "text/html": [
       "<div>\n",
       "<table border=\"1\" class=\"dataframe\">\n",
       "  <thead>\n",
       "    <tr style=\"text-align: right;\">\n",
       "      <th></th>\n",
       "      <th>LST</th>\n",
       "      <th>NDVI</th>\n",
       "      <th>elevation</th>\n",
       "      <th>impervious</th>\n",
       "    </tr>\n",
       "  </thead>\n",
       "  <tbody>\n",
       "    <tr>\n",
       "      <th>339</th>\n",
       "      <td>19.210572</td>\n",
       "      <td>0.067237</td>\n",
       "      <td>71</td>\n",
       "      <td>26</td>\n",
       "    </tr>\n",
       "    <tr>\n",
       "      <th>434</th>\n",
       "      <td>3.087713</td>\n",
       "      <td>0.149250</td>\n",
       "      <td>1384</td>\n",
       "      <td>0</td>\n",
       "    </tr>\n",
       "    <tr>\n",
       "      <th>207</th>\n",
       "      <td>51.750492</td>\n",
       "      <td>0.067372</td>\n",
       "      <td>815</td>\n",
       "      <td>0</td>\n",
       "    </tr>\n",
       "    <tr>\n",
       "      <th>431</th>\n",
       "      <td>20.511744</td>\n",
       "      <td>0.268772</td>\n",
       "      <td>124</td>\n",
       "      <td>0</td>\n",
       "    </tr>\n",
       "    <tr>\n",
       "      <th>353</th>\n",
       "      <td>25.404771</td>\n",
       "      <td>0.179257</td>\n",
       "      <td>604</td>\n",
       "      <td>0</td>\n",
       "    </tr>\n",
       "  </tbody>\n",
       "</table>\n",
       "</div>"
      ],
      "text/plain": [
       "           LST      NDVI  elevation  impervious\n",
       "339  19.210572  0.067237         71          26\n",
       "434   3.087713  0.149250       1384           0\n",
       "207  51.750492  0.067372        815           0\n",
       "431  20.511744  0.268772        124           0\n",
       "353  25.404771  0.179257        604           0"
      ]
     },
     "execution_count": 32,
     "metadata": {},
     "output_type": "execute_result"
    }
   ],
   "source": [
    "X_train.head()"
   ]
  },
  {
   "cell_type": "code",
   "execution_count": null,
   "metadata": {
    "collapsed": true
   },
   "outputs": [],
   "source": []
  }
 ],
 "metadata": {
  "kernelspec": {
   "display_name": "Python 2",
   "language": "python",
   "name": "python2"
  },
  "language_info": {
   "codemirror_mode": {
    "name": "ipython",
    "version": 2
   },
   "file_extension": ".py",
   "mimetype": "text/x-python",
   "name": "python",
   "nbconvert_exporter": "python",
   "pygments_lexer": "ipython2",
   "version": "2.7.12"
  }
 },
 "nbformat": 4,
 "nbformat_minor": 0
}
