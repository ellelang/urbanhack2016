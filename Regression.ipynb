{
 "cells": [
  {
   "cell_type": "code",
   "execution_count": 2,
   "metadata": {
    "collapsed": true
   },
   "outputs": [],
   "source": [
    "import ee\n",
    "ee.Initialize()"
   ]
  },
  {
   "cell_type": "code",
   "execution_count": 3,
   "metadata": {
    "collapsed": true
   },
   "outputs": [],
   "source": [
    "import datetime\n",
    "import pandas as pd"
   ]
  },
  {
   "cell_type": "code",
   "execution_count": null,
   "metadata": {
    "collapsed": true
   },
   "outputs": [],
   "source": []
  },
  {
   "cell_type": "code",
   "execution_count": null,
   "metadata": {
    "collapsed": true
   },
   "outputs": [],
   "source": []
  },
  {
   "cell_type": "code",
   "execution_count": 124,
   "metadata": {
    "collapsed": false
   },
   "outputs": [],
   "source": [
    "def get_data(startTime,endTime,lat,lon):   \n",
    "\n",
    "    try:\n",
    "        point = {'type':'Point', 'coordinates':[lon,lat]}; \n",
    "    \n",
    "        #Read Landsat 8 Image\n",
    "        L8_DN = ee.ImageCollection('LANDSAT/LC8_L1T').filterDate(startTime, endTime)\n",
    "        L8_DN = L8_DN.filterBounds(point)\n",
    "        L8_DN = L8_DN.sort('CLOUD_COVER').first()\n",
    "\n",
    "        image = ee.Image(L8_DN)\n",
    "        tir = image.select(u'B10')\n",
    "        red = image.select(u'B4')\n",
    "        nir = image.select(u'B5')\n",
    "        ndvi = nir.subtract(red).divide(nir.add(red))\n",
    "\n",
    "        emissivity = ee.Image('NASA/ASTER_GED/AG100_003').select('emissivity_band10').multiply(0.001) \n",
    "        srtm = ee.Image('USGS/SRTMGL1_003')\n",
    "        impervious = ee.Image('USGS/NLCD/NLCD2011').select('impervious')\n",
    "        \n",
    "        # computes emissivity-corrected land surface temperature given Landsat8 band 10 (tir) and emissivity\n",
    "        # assumes tir, emissivity are google earth engine images\n",
    "        k1 = 774.8853 ; # constants for Landsat8 B10\n",
    "        k2 =  1321.0789 ; # constants for Landsat8 B10\n",
    "        dummyk1 = emissivity.multiply(0).add(1).multiply(k1) # make dummy variable same size/type as emissivity\n",
    "        dummyk2 = emissivity.multiply(0).add(1).multiply(k2) # make dummy variable same size/type as emissivity\n",
    "    \n",
    "        # first convert band 10 Digital Number (DN) data to TOA spectral radiance\n",
    "        radiance = tir.multiply(3.3420E-04).add(.1)  # scale by gain and bias, band specific \n",
    "        L_lamda = radiance.divide(emissivity); # correct for emissivity\n",
    "        k1_over_L_lamda = dummyk1.divide(L_lamda) \n",
    "        denominator = k1_over_L_lamda.add(1).log(); \n",
    "        t = dummyk2.divide(denominator).subtract(273.15); # finally convert to degrees C \n",
    "    \n",
    "    \n",
    "        image = ee.ImageCollection(image)\n",
    "        t = ee.ImageCollection(t)\n",
    "        ndvi = ee.ImageCollection(ndvi)\n",
    "        srtm = ee.ImageCollection(srtm)\n",
    "        impervious = ee.ImageCollection(impervious)\n",
    "    \n",
    "        #Get the given Lat,Lon,date\n",
    "        info = image.getRegion(point,500).getInfo()\n",
    "        df_image = pd.DataFrame(info[1:],columns=info[0])\n",
    "    \n",
    "        #Get the LST (B10)\n",
    "        info = t.getRegion(point,500).getInfo()\n",
    "        df_t = pd.DataFrame(info[1:],columns=info[0])\n",
    "    \n",
    "        #Get the NDVI\n",
    "        info = ndvi.getRegion(point,500).getInfo()\n",
    "        df_ndvi = pd.DataFrame(info[1:],columns=info[0])\n",
    "\n",
    "        #Get the SRTM\n",
    "        info = srtm.getRegion(point,500).getInfo()\n",
    "        df_srtm = pd.DataFrame(info[1:],columns=info[0])\n",
    "\n",
    "        #Get the impervious\n",
    "        info = impervious.getRegion(point,500).getInfo()\n",
    "        df_impervious = pd.DataFrame(info[1:],columns=info[0])\n",
    "\n",
    "        df = pd.DataFrame()\n",
    "        df = pd.concat([df,df_image[['longitude','latitude','time']]],axis=1)\n",
    "        df = pd.concat([df,df_t['emissivity_band10']],axis=1)\n",
    "        df = pd.concat([df,df_ndvi['B5']],axis=1)\n",
    "        df = pd.concat([df,df_srtm['elevation']],axis=1)\n",
    "        df = pd.concat([df,df_impervious['impervious']],axis=1)\n",
    "        \n",
    "        df.rename(index=str, columns={\"emissivity_band10\": \"LST\"},inplace=True)\n",
    "        df.rename(index=str, columns={\"B5\": \"NDVI\"},inplace=True)\n",
    "        df['time'] = df['time'].apply(lambda x:datetime.datetime.fromtimestamp(float(str(x)[:-3])))\n",
    "        df['latitude'] = lat\n",
    "        df['longitude'] = lon\n",
    "        return df\n",
    "    except:\n",
    "        print(\"Not Found or Error!\")\n",
    "        return pd.DataFrame"
   ]
  },
  {
   "cell_type": "code",
   "execution_count": null,
   "metadata": {
    "collapsed": false
   },
   "outputs": [],
   "source": []
  },
  {
   "cell_type": "code",
   "execution_count": 126,
   "metadata": {
    "collapsed": false
   },
   "outputs": [],
   "source": [
    "import datetime\n",
    "from matplotlib import dates\n",
    "import matplotlib.dates as mdates\n",
    "from pylab import *\n",
    "\n",
    "startTime = datetime.datetime(2013, 1, 1)\n",
    "endTime = datetime.datetime(2016, 1, 1)\n",
    "\n",
    "collection = ee.ImageCollection('LANDSAT/LC8_L1T').filterDate(startTime, endTime)\n",
    "point = {'type':'Point', 'coordinates':[ -122.055,37.9917]};  # LA\n",
    "info = collection.getRegion(point,500).getInfo()\n",
    "\n",
    "# extract the header column names\n",
    "header = info[0]\n",
    "# create a Numpy array of the data\n",
    "data = array(info[1:])\n",
    "# extract the time information\n",
    "iTime = header.index('time')\n",
    "# convert to Python datetime objects\n",
    "time_collection = [datetime.datetime.fromtimestamp(i/1000) for i in (data[0:,iTime].astype(int))]"
   ]
  },
  {
   "cell_type": "code",
   "execution_count": 127,
   "metadata": {
    "collapsed": false
   },
   "outputs": [],
   "source": [
    "#Read list of metereological station\n",
    "met_loc = pd.read_csv('met_locs_la.csv')\n",
    "lat = met_loc['latitude'].tolist()\n",
    "lon = met_loc['longitude'].tolist()\n",
    "latlon = zip(lat,lon)"
   ]
  },
  {
   "cell_type": "code",
   "execution_count": null,
   "metadata": {
    "collapsed": true
   },
   "outputs": [],
   "source": []
  },
  {
   "cell_type": "code",
   "execution_count": 139,
   "metadata": {
    "collapsed": false
   },
   "outputs": [
    {
     "name": "stdout",
     "output_type": "stream",
     "text": [
      "0\n",
      "1\n",
      "2\n",
      "3\n",
      "4\n",
      "5\n",
      "6\n",
      "7\n",
      "8\n",
      "9\n",
      "10\n",
      "11\n",
      "12\n",
      "13\n",
      "14\n",
      "15\n",
      "16\n",
      "17\n",
      "18\n",
      "19\n",
      "20\n",
      "21\n",
      "22\n",
      "23\n",
      "24\n",
      "25\n",
      "26\n",
      "27\n",
      "28\n",
      "29\n",
      "30\n",
      "31\n",
      "32\n",
      "33\n",
      "34\n",
      "35\n",
      "36\n",
      "37\n",
      "38\n",
      "39\n",
      "40\n",
      "41\n",
      "42\n",
      "43\n",
      "44\n",
      "45\n",
      "46\n",
      "47\n",
      "48\n",
      "49\n",
      "50\n",
      "51\n",
      "52\n",
      "53\n",
      "54\n",
      "55\n",
      "767.656155109\n"
     ]
    }
   ],
   "source": [
    "import time as time\n",
    "tic = time.time()\n",
    "\n",
    "#Create the final Dataframe\n",
    "df = pd.DataFrame()\n",
    "counter=0\n",
    "\n",
    "for time_X in time_collection:\n",
    "    print(counter)\n",
    "    loc_counter = 0\n",
    "    for loc in latlon:\n",
    "        #print(loc_counter)\n",
    "        startTime = time_X-datetime.timedelta(days=1)\n",
    "        endTime = time_X+datetime.timedelta(days=1)\n",
    "        df_temp = get_data(startTime,endTime,loc[0],loc[1])\n",
    "        try:\n",
    "            df = pd.concat([df,df_temp])\n",
    "        except:\n",
    "            df = df.copy()\n",
    "        loc_counter += 1\n",
    "    counter += 1\n",
    "    \n",
    "toc = time.time()\n",
    "print(toc-tic)\n",
    "\n",
    "df['time'] = df['time'].apply(lambda x:str(x.date()))"
   ]
  },
  {
   "cell_type": "code",
   "execution_count": 141,
   "metadata": {
    "collapsed": false
   },
   "outputs": [],
   "source": [
    "#Read the Temperature values from the Met stations\n",
    "Tair_val = pd.read_csv('met_vals_la.csv')\n",
    "Tair_val.rename(index=str, columns={\"day\": \"time\"},inplace=True)"
   ]
  },
  {
   "cell_type": "code",
   "execution_count": 62,
   "metadata": {
    "collapsed": true
   },
   "outputs": [],
   "source": []
  },
  {
   "cell_type": "code",
   "execution_count": 142,
   "metadata": {
    "collapsed": false,
    "scrolled": true
   },
   "outputs": [],
   "source": [
    "#Do some field cleaning for joining the tables\n",
    "df['longitude'] = df['longitude'].apply(lambda x:str(x)[0:8])\n",
    "df['latitude'] = df['latitude'].apply(lambda x:str(x)[0:6])\n",
    "\n",
    "Tair_val['longitude'] = Tair_val['longitude'].apply(lambda x:str(x)[0:8])\n",
    "Tair_val['latitude'] = Tair_val['latitude'].apply(lambda x:str(x)[0:6])"
   ]
  },
  {
   "cell_type": "code",
   "execution_count": 143,
   "metadata": {
    "collapsed": false
   },
   "outputs": [],
   "source": [
    "#Merge the two Tables\n",
    "df = pd.merge(df, Tair_val, how='left', on=['latitude', 'longitude', 'time'])\n",
    "df.drop(['native_id','met_monitor_id'],axis=1,inplace=True)\n",
    "df = df.dropna(axis=0,how='any') #Drop any rows with missing data"
   ]
  },
  {
   "cell_type": "code",
   "execution_count": null,
   "metadata": {
    "collapsed": false
   },
   "outputs": [],
   "source": []
  },
  {
   "cell_type": "code",
   "execution_count": null,
   "metadata": {
    "collapsed": false
   },
   "outputs": [],
   "source": []
  },
  {
   "cell_type": "code",
   "execution_count": 150,
   "metadata": {
    "collapsed": false
   },
   "outputs": [],
   "source": []
  },
  {
   "cell_type": "code",
   "execution_count": 159,
   "metadata": {
    "collapsed": false
   },
   "outputs": [
    {
     "name": "stdout",
     "output_type": "stream",
     "text": [
      "0.458570839336\n"
     ]
    },
    {
     "data": {
      "image/png": "[encoded data removed]",
      "text/plain": [
       "<matplotlib.figure.Figure at 0x7f91b0a91650>"
      ]
     },
     "metadata": {},
     "output_type": "display_data"
    }
   ],
   "source": [
    "#Do the Regression\n",
    "X_train = df.drop(['longitude','latitude','time','temp'], axis=1)\n",
    "y_train = df['temp']\n",
    "                  \n",
    "\n",
    "from sklearn.linear_model import LinearRegression\n",
    "lm = LinearRegression(normalize=True)\n",
    "\n",
    "lm.fit(X_train,y_train)\n",
    "predictions = lm.predict(X_train)\n",
    "plt.scatter(y_train,predictions)\n",
    "\n",
    "print(lm.score(X_train,y_train))"
   ]
  },
  {
   "cell_type": "code",
   "execution_count": null,
   "metadata": {
    "collapsed": false
   },
   "outputs": [],
   "source": []
  },
  {
   "cell_type": "code",
   "execution_count": 162,
   "metadata": {
    "collapsed": false
   },
   "outputs": [
    {
     "name": "stdout",
     "output_type": "stream",
     "text": [
      "[  2.23489141e-01  -3.04418862e+01   5.52772717e-03  -1.91607731e-02]\n",
      "13.8488596335\n"
     ]
    }
   ],
   "source": [
    "print(lm.coef_)\n",
    "print(lm.intercept_)"
   ]
  },
  {
   "cell_type": "code",
   "execution_count": null,
   "metadata": {
    "collapsed": false
   },
   "outputs": [],
   "source": []
  },
  {
   "cell_type": "code",
   "execution_count": null,
   "metadata": {
    "collapsed": false
   },
   "outputs": [],
   "source": []
  },
  {
   "cell_type": "code",
   "execution_count": null,
   "metadata": {
    "collapsed": true
   },
   "outputs": [],
   "source": []
  }
 ],
 "metadata": {
  "kernelspec": {
   "display_name": "Python 2",
   "language": "python",
   "name": "python2"
  },
  "language_info": {
   "codemirror_mode": {
    "name": "ipython",
    "version": 2
   },
   "file_extension": ".py",
   "mimetype": "text/x-python",
   "name": "python",
   "nbconvert_exporter": "python",
   "pygments_lexer": "ipython2",
   "version": "2.7.11"
  }
 },
 "nbformat": 4,
 "nbformat_minor": 0
}
